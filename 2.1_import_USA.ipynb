{
 "cells": [
  {
   "cell_type": "code",
   "execution_count": 50,
   "metadata": {},
   "outputs": [],
   "source": [
    "# conda environment ml_transplant\n",
    "\n",
    "import pandas as pd\n",
    "import pyreadstat\n",
    "import numpy as np\n",
    "from pandas_profiling import ProfileReport\n",
    "from missingno import matrix\n",
    "import pickle"
   ]
  },
  {
   "cell_type": "code",
   "execution_count": 51,
   "metadata": {},
   "outputs": [],
   "source": [
    "data = pd.read_excel(\"data/usa_data.xlsx\")"
   ]
  },
  {
   "cell_type": "code",
   "execution_count": null,
   "metadata": {},
   "outputs": [],
   "source": [
    "df_complete = data"
   ]
  },
  {
   "cell_type": "code",
   "execution_count": 53,
   "metadata": {},
   "outputs": [
    {
     "name": "stdout",
     "output_type": "stream",
     "text": [
      "year                      int64\n",
      "recipient_status          int64\n",
      "recipient_age             int64\n",
      "recipient_bmi           float64\n",
      "recipient_height        float64\n",
      "recipient_weight        float64\n",
      "recipient_sex             int64\n",
      "recipient_race            int64\n",
      "recipient_blood_type      int64\n",
      "MELD                      int64\n",
      "recipient_albumin       float64\n",
      "recipient_bili          float64\n",
      "recipient_inr           float64\n",
      "recipient_creatinine    float64\n",
      "recipient_sodium        float64\n",
      "cold_ischemia_time      float64\n",
      "share_type                int64\n",
      "dcd_donor                 int64\n",
      "machine_perfuse           int64\n",
      "whole_split               int64\n",
      "donor_age                 int64\n",
      "donor_height            float64\n",
      "donor_weight            float64\n",
      "donor_bmi               float64\n",
      "donor_sex                 int64\n",
      "donor_race                int64\n",
      "donor_blood_type          int64\n",
      "don_cod                 float64\n",
      "donor_alt               float64\n",
      "donor_ast               float64\n",
      "donor_bili              float64\n",
      "donor_creat             float64\n",
      "donor_sodium            float64\n",
      "donor_drugs             float64\n",
      "donor_alcohol           float64\n",
      "graft_1yr                 int64\n",
      "recipient_days          float64\n",
      "graft_days              float64\n",
      "patient_1yr               int64\n",
      "recipient_region          int64\n",
      "dtype: object\n"
     ]
    }
   ],
   "source": [
    "print(df_complete.dtypes)"
   ]
  },
  {
   "cell_type": "code",
   "execution_count": 54,
   "metadata": {},
   "outputs": [],
   "source": [
    "df_complete['cold_ischemia_time'] = df_complete['cold_ischemia_time'] * 60 #from 1hour to 60min\n",
    "df_complete['donor_bili'] = df_complete['donor_bili'] * 17.1 #from 1mg/dl to 17.1µmol/l"
   ]
  },
  {
   "cell_type": "code",
   "execution_count": 55,
   "metadata": {},
   "outputs": [
    {
     "name": "stdout",
     "output_type": "stream",
     "text": [
      "                               column_name  percent_missing\n",
      "year                                  year        0.000e+00\n",
      "graft_1yr                        graft_1yr        0.000e+00\n",
      "donor_blood_type          donor_blood_type        0.000e+00\n",
      "donor_race                      donor_race        0.000e+00\n",
      "donor_sex                        donor_sex        0.000e+00\n",
      "donor_age                        donor_age        0.000e+00\n",
      "patient_1yr                    patient_1yr        0.000e+00\n",
      "machine_perfuse            machine_perfuse        0.000e+00\n",
      "dcd_donor                        dcd_donor        0.000e+00\n",
      "share_type                      share_type        0.000e+00\n",
      "whole_split                    whole_split        0.000e+00\n",
      "recipient_region          recipient_region        0.000e+00\n",
      "recipient_status          recipient_status        0.000e+00\n",
      "recipient_age                recipient_age        0.000e+00\n",
      "MELD                                  MELD        0.000e+00\n",
      "recipient_blood_type  recipient_blood_type        0.000e+00\n",
      "recipient_race              recipient_race        0.000e+00\n",
      "recipient_sex                recipient_sex        0.000e+00\n",
      "graft_days                      graft_days        9.517e-04\n",
      "recipient_days              recipient_days        9.517e-04\n",
      "donor_height                  donor_height        3.807e-03\n",
      "recipient_height          recipient_height        4.759e-03\n",
      "recipient_bili              recipient_bili        7.614e-03\n",
      "recipient_inr                recipient_inr        7.614e-03\n",
      "recipient_sodium          recipient_sodium        7.614e-03\n",
      "recipient_weight          recipient_weight        1.237e-02\n",
      "recipient_albumin        recipient_albumin        1.237e-02\n",
      "donor_creat                    donor_creat        3.807e-02\n",
      "donor_bili                      donor_bili        5.139e-02\n",
      "donor_weight                  donor_weight        5.520e-02\n",
      "recipient_creatinine  recipient_creatinine        5.996e-02\n",
      "donor_sodium                  donor_sodium        8.660e-02\n",
      "donor_ast                        donor_ast        1.228e-01\n",
      "donor_bmi                        donor_bmi        1.447e-01\n",
      "donor_alt                        donor_alt        1.932e-01\n",
      "recipient_bmi                recipient_bmi        2.484e-01\n",
      "donor_drugs                    donor_drugs        1.045e+00\n",
      "cold_ischemia_time      cold_ischemia_time        1.074e+00\n",
      "donor_alcohol                donor_alcohol        2.398e+00\n",
      "don_cod                            don_cod        2.480e+00\n"
     ]
    }
   ],
   "source": [
    "percent_missing = df_complete.isnull().sum() * 100 / len(df_complete)\n",
    "missing_value_df = pd.DataFrame({'column_name': df_complete.columns,\n",
    "                                 'percent_missing': percent_missing})\n",
    "missing_value_df.sort_values('percent_missing', inplace=True)\n",
    "\n",
    "with pd.option_context('display.max_rows', None,\n",
    "                       'display.max_columns', None,\n",
    "                       'display.precision', 3,\n",
    "                       ):\n",
    "    print(missing_value_df)"
   ]
  },
  {
   "cell_type": "code",
   "execution_count": 56,
   "metadata": {},
   "outputs": [
    {
     "data": {
      "application/vnd.jupyter.widget-view+json": {
       "model_id": "fd27ca8dd90245969fc077939de92990",
       "version_major": 2,
       "version_minor": 0
      },
      "text/plain": [
       "Summarize dataset:   0%|          | 0/5 [00:00<?, ?it/s]"
      ]
     },
     "metadata": {},
     "output_type": "display_data"
    },
    {
     "name": "stderr",
     "output_type": "stream",
     "text": [
      "100%|██████████| 40/40 [00:00<00:00, 157.31it/s]\n"
     ]
    },
    {
     "data": {
      "application/vnd.jupyter.widget-view+json": {
       "model_id": "60ed70cf7f474a5594beecae8d41a0e3",
       "version_major": 2,
       "version_minor": 0
      },
      "text/plain": [
       "Generate report structure:   0%|          | 0/1 [00:00<?, ?it/s]"
      ]
     },
     "metadata": {},
     "output_type": "display_data"
    },
    {
     "data": {
      "application/vnd.jupyter.widget-view+json": {
       "model_id": "b9a893d2527342dd830e67c9ddd17924",
       "version_major": 2,
       "version_minor": 0
      },
      "text/plain": [
       "Render widgets:   0%|          | 0/1 [00:00<?, ?it/s]"
      ]
     },
     "metadata": {},
     "output_type": "display_data"
    },
    {
     "data": {
      "application/vnd.jupyter.widget-view+json": {
       "model_id": "bae7e2843f3240908a1b48183ebf8c19",
       "version_major": 2,
       "version_minor": 0
      },
      "text/plain": [
       "VBox(children=(Tab(children=(Tab(children=(GridBox(children=(VBox(children=(GridspecLayout(children=(HTML(valu…"
      ]
     },
     "metadata": {},
     "output_type": "display_data"
    },
    {
     "data": {
      "application/vnd.jupyter.widget-view+json": {
       "model_id": "7e452ac47fb343599036da266b64449b",
       "version_major": 2,
       "version_minor": 0
      },
      "text/plain": [
       "Render HTML:   0%|          | 0/1 [00:00<?, ?it/s]"
      ]
     },
     "metadata": {},
     "output_type": "display_data"
    },
    {
     "data": {
      "application/vnd.jupyter.widget-view+json": {
       "model_id": "f1652c16ee0f43d9b3065f77d8ef6486",
       "version_major": 2,
       "version_minor": 0
      },
      "text/plain": [
       "Export report to file:   0%|          | 0/1 [00:00<?, ?it/s]"
      ]
     },
     "metadata": {},
     "output_type": "display_data"
    }
   ],
   "source": [
    "from ydata_profiling import ProfileReport\n",
    "profile = ProfileReport(df_complete, title=\"Data Overview\", minimal=True)\n",
    "profile.to_widgets()\n",
    "profile.to_file(\"reports/usa_1.html\")"
   ]
  },
  {
   "cell_type": "code",
   "execution_count": 57,
   "metadata": {},
   "outputs": [
    {
     "name": "stdout",
     "output_type": "stream",
     "text": [
      "Correlation coefficient: 0.9933057948495738\n"
     ]
    }
   ],
   "source": [
    "correlation = df_complete['recipient_days'].corr(df_complete['graft_days'])\n",
    "print(\"Correlation coefficient:\", correlation)"
   ]
  },
  {
   "cell_type": "code",
   "execution_count": 60,
   "metadata": {},
   "outputs": [],
   "source": [
    "df_complete = df_complete.dropna(subset=['graft_1yr'])"
   ]
  },
  {
   "cell_type": "code",
   "execution_count": 61,
   "metadata": {},
   "outputs": [
    {
     "name": "stderr",
     "output_type": "stream",
     "text": [
      "Exception ignored in: <function ZipFile.__del__ at 0x10b5f6320>\n",
      "Traceback (most recent call last):\n",
      "  File \"/Users/jin-on/opt/anaconda3/envs/eddy/lib/python3.10/zipfile.py\", line 1834, in __del__\n",
      "    self.close()\n",
      "  File \"/Users/jin-on/opt/anaconda3/envs/eddy/lib/python3.10/zipfile.py\", line 1851, in close\n",
      "    self.fp.seek(self.start_dir)\n",
      "ValueError: seek of closed file\n",
      "Exception ignored in: <function ZipFile.__del__ at 0x10b5f6320>\n",
      "Traceback (most recent call last):\n",
      "  File \"/Users/jin-on/opt/anaconda3/envs/eddy/lib/python3.10/zipfile.py\", line 1834, in __del__\n",
      "    self.close()\n",
      "  File \"/Users/jin-on/opt/anaconda3/envs/eddy/lib/python3.10/zipfile.py\", line 1851, in close\n",
      "    self.fp.seek(self.start_dir)\n",
      "ValueError: seek of closed file\n"
     ]
    }
   ],
   "source": [
    "df_complete.to_excel(\"data/usa_preimp.xlsx\")\n",
    "df_complete.to_pickle('data/usa_preimp.p')"
   ]
  },
  {
   "cell_type": "markdown",
   "metadata": {},
   "source": [
    "# Imputation"
   ]
  },
  {
   "cell_type": "code",
   "execution_count": 11,
   "metadata": {},
   "outputs": [],
   "source": [
    "import pandas as pd\n",
    "import pyreadstat\n",
    "import numpy as np\n",
    "import pickle\n",
    "import matplotlib.pyplot as plt\n",
    "import seaborn as sns"
   ]
  },
  {
   "cell_type": "code",
   "execution_count": 39,
   "metadata": {},
   "outputs": [
    {
     "name": "stdout",
     "output_type": "stream",
     "text": [
      "year                      int64\n",
      "recipient_status          int64\n",
      "recipient_age             int64\n",
      "recipient_bmi           float64\n",
      "recipient_height        float64\n",
      "recipient_weight        float64\n",
      "recipient_sex             int64\n",
      "recipient_race            int64\n",
      "recipient_blood_type      int64\n",
      "MELD                      int64\n",
      "recipient_albumin       float64\n",
      "recipient_bili          float64\n",
      "recipient_inr           float64\n",
      "recipient_creatinine    float64\n",
      "recipient_sodium        float64\n",
      "cold_ischemia_time      float64\n",
      "share_type                int64\n",
      "dcd_donor                 int64\n",
      "machine_perfuse           int64\n",
      "whole_split               int64\n",
      "donor_age                 int64\n",
      "donor_height            float64\n",
      "donor_weight            float64\n",
      "donor_bmi               float64\n",
      "donor_sex                 int64\n",
      "donor_race                int64\n",
      "donor_blood_type          int64\n",
      "don_cod                 float64\n",
      "donor_alt               float64\n",
      "donor_ast               float64\n",
      "donor_bili              float64\n",
      "donor_creat             float64\n",
      "donor_sodium            float64\n",
      "donor_drugs             float64\n",
      "donor_alcohol           float64\n",
      "graft_1yr                 int64\n",
      "recipient_days          float64\n",
      "graft_days              float64\n",
      "patient_1yr               int64\n",
      "recipient_region          int64\n",
      "dtype: object\n"
     ]
    }
   ],
   "source": [
    "print(df_complete.dtypes)"
   ]
  },
  {
   "cell_type": "code",
   "execution_count": 16,
   "metadata": {},
   "outputs": [
    {
     "name": "stderr",
     "output_type": "stream",
     "text": [
      "/Users/jin-on/opt/anaconda3/envs/eddy/lib/python3.10/site-packages/sklearn/impute/_iterative.py:801: ConvergenceWarning: [IterativeImputer] Early stopping criterion not reached.\n",
      "  warnings.warn(\n"
     ]
    }
   ],
   "source": [
    "import numpy as np\n",
    "from sklearn.experimental import enable_iterative_imputer\n",
    "from sklearn.impute import IterativeImputer\n",
    "\n",
    "imp = IterativeImputer(max_iter=10, random_state=0)\n",
    "df_imputed = imp.fit_transform(df_complete)"
   ]
  },
  {
   "cell_type": "code",
   "execution_count": 17,
   "metadata": {},
   "outputs": [],
   "source": [
    "df_imputed = pd.DataFrame(df_imputed, columns=df_complete.columns, index=df_complete.index)"
   ]
  },
  {
   "cell_type": "code",
   "execution_count": 30,
   "metadata": {},
   "outputs": [
    {
     "data": {
      "text/html": [
       "<div>\n",
       "<style scoped>\n",
       "    .dataframe tbody tr th:only-of-type {\n",
       "        vertical-align: middle;\n",
       "    }\n",
       "\n",
       "    .dataframe tbody tr th {\n",
       "        vertical-align: top;\n",
       "    }\n",
       "\n",
       "    .dataframe thead th {\n",
       "        text-align: right;\n",
       "    }\n",
       "</style>\n",
       "<table border=\"1\" class=\"dataframe\">\n",
       "  <thead>\n",
       "    <tr style=\"text-align: right;\">\n",
       "      <th></th>\n",
       "      <th>year</th>\n",
       "      <th>recipient_status</th>\n",
       "      <th>recipient_age</th>\n",
       "      <th>recipient_bmi</th>\n",
       "      <th>recipient_height</th>\n",
       "      <th>recipient_weight</th>\n",
       "      <th>recipient_sex</th>\n",
       "      <th>recipient_race</th>\n",
       "      <th>recipient_blood_type</th>\n",
       "      <th>MELD</th>\n",
       "      <th>...</th>\n",
       "      <th>donor_bili</th>\n",
       "      <th>donor_creat</th>\n",
       "      <th>donor_sodium</th>\n",
       "      <th>donor_drugs</th>\n",
       "      <th>donor_alcohol</th>\n",
       "      <th>graft_1yr</th>\n",
       "      <th>recipient_days</th>\n",
       "      <th>graft_days</th>\n",
       "      <th>patient_1yr</th>\n",
       "      <th>recipient_region</th>\n",
       "    </tr>\n",
       "  </thead>\n",
       "  <tbody>\n",
       "    <tr>\n",
       "      <th>0</th>\n",
       "      <td>2008.0</td>\n",
       "      <td>1.0</td>\n",
       "      <td>47.0</td>\n",
       "      <td>25.685751</td>\n",
       "      <td>170.179993</td>\n",
       "      <td>74.389099</td>\n",
       "      <td>1.0</td>\n",
       "      <td>1.0</td>\n",
       "      <td>1.0</td>\n",
       "      <td>15.0</td>\n",
       "      <td>...</td>\n",
       "      <td>12.0</td>\n",
       "      <td>1.0</td>\n",
       "      <td>146.0</td>\n",
       "      <td>1.0</td>\n",
       "      <td>0.0</td>\n",
       "      <td>1.0</td>\n",
       "      <td>212.0</td>\n",
       "      <td>212.0</td>\n",
       "      <td>1.0</td>\n",
       "      <td>8.0</td>\n",
       "    </tr>\n",
       "    <tr>\n",
       "      <th>1</th>\n",
       "      <td>2006.0</td>\n",
       "      <td>2.0</td>\n",
       "      <td>50.0</td>\n",
       "      <td>24.545639</td>\n",
       "      <td>162.559998</td>\n",
       "      <td>64.863701</td>\n",
       "      <td>1.0</td>\n",
       "      <td>4.0</td>\n",
       "      <td>4.0</td>\n",
       "      <td>21.0</td>\n",
       "      <td>...</td>\n",
       "      <td>7.0</td>\n",
       "      <td>1.0</td>\n",
       "      <td>147.0</td>\n",
       "      <td>0.0</td>\n",
       "      <td>0.0</td>\n",
       "      <td>0.0</td>\n",
       "      <td>26.0</td>\n",
       "      <td>26.0</td>\n",
       "      <td>0.0</td>\n",
       "      <td>5.0</td>\n",
       "    </tr>\n",
       "    <tr>\n",
       "      <th>2</th>\n",
       "      <td>2007.0</td>\n",
       "      <td>2.0</td>\n",
       "      <td>35.0</td>\n",
       "      <td>33.622337</td>\n",
       "      <td>190.500000</td>\n",
       "      <td>122.016296</td>\n",
       "      <td>1.0</td>\n",
       "      <td>1.0</td>\n",
       "      <td>1.0</td>\n",
       "      <td>8.0</td>\n",
       "      <td>...</td>\n",
       "      <td>10.0</td>\n",
       "      <td>1.0</td>\n",
       "      <td>140.0</td>\n",
       "      <td>0.0</td>\n",
       "      <td>0.0</td>\n",
       "      <td>0.0</td>\n",
       "      <td>4662.0</td>\n",
       "      <td>4662.0</td>\n",
       "      <td>0.0</td>\n",
       "      <td>3.0</td>\n",
       "    </tr>\n",
       "    <tr>\n",
       "      <th>3</th>\n",
       "      <td>2007.0</td>\n",
       "      <td>2.0</td>\n",
       "      <td>53.0</td>\n",
       "      <td>22.008026</td>\n",
       "      <td>175.259995</td>\n",
       "      <td>67.599998</td>\n",
       "      <td>1.0</td>\n",
       "      <td>3.0</td>\n",
       "      <td>1.0</td>\n",
       "      <td>25.0</td>\n",
       "      <td>...</td>\n",
       "      <td>17.0</td>\n",
       "      <td>1.0</td>\n",
       "      <td>129.0</td>\n",
       "      <td>0.0</td>\n",
       "      <td>0.0</td>\n",
       "      <td>0.0</td>\n",
       "      <td>6051.0</td>\n",
       "      <td>6051.0</td>\n",
       "      <td>0.0</td>\n",
       "      <td>4.0</td>\n",
       "    </tr>\n",
       "    <tr>\n",
       "      <th>4</th>\n",
       "      <td>2006.0</td>\n",
       "      <td>2.0</td>\n",
       "      <td>56.0</td>\n",
       "      <td>25.612984</td>\n",
       "      <td>173.000000</td>\n",
       "      <td>76.657097</td>\n",
       "      <td>1.0</td>\n",
       "      <td>1.0</td>\n",
       "      <td>4.0</td>\n",
       "      <td>31.0</td>\n",
       "      <td>...</td>\n",
       "      <td>15.0</td>\n",
       "      <td>1.0</td>\n",
       "      <td>160.0</td>\n",
       "      <td>1.0</td>\n",
       "      <td>1.0</td>\n",
       "      <td>0.0</td>\n",
       "      <td>4260.0</td>\n",
       "      <td>4260.0</td>\n",
       "      <td>0.0</td>\n",
       "      <td>5.0</td>\n",
       "    </tr>\n",
       "    <tr>\n",
       "      <th>...</th>\n",
       "      <td>...</td>\n",
       "      <td>...</td>\n",
       "      <td>...</td>\n",
       "      <td>...</td>\n",
       "      <td>...</td>\n",
       "      <td>...</td>\n",
       "      <td>...</td>\n",
       "      <td>...</td>\n",
       "      <td>...</td>\n",
       "      <td>...</td>\n",
       "      <td>...</td>\n",
       "      <td>...</td>\n",
       "      <td>...</td>\n",
       "      <td>...</td>\n",
       "      <td>...</td>\n",
       "      <td>...</td>\n",
       "      <td>...</td>\n",
       "      <td>...</td>\n",
       "      <td>...</td>\n",
       "      <td>...</td>\n",
       "      <td>...</td>\n",
       "    </tr>\n",
       "    <tr>\n",
       "      <th>105070</th>\n",
       "      <td>2023.0</td>\n",
       "      <td>2.0</td>\n",
       "      <td>53.0</td>\n",
       "      <td>29.502140</td>\n",
       "      <td>162.600006</td>\n",
       "      <td>78.000000</td>\n",
       "      <td>0.0</td>\n",
       "      <td>1.0</td>\n",
       "      <td>1.0</td>\n",
       "      <td>32.0</td>\n",
       "      <td>...</td>\n",
       "      <td>21.0</td>\n",
       "      <td>4.0</td>\n",
       "      <td>136.0</td>\n",
       "      <td>0.0</td>\n",
       "      <td>1.0</td>\n",
       "      <td>0.0</td>\n",
       "      <td>361.0</td>\n",
       "      <td>361.0</td>\n",
       "      <td>0.0</td>\n",
       "      <td>11.0</td>\n",
       "    </tr>\n",
       "    <tr>\n",
       "      <th>105071</th>\n",
       "      <td>2023.0</td>\n",
       "      <td>2.0</td>\n",
       "      <td>66.0</td>\n",
       "      <td>29.977568</td>\n",
       "      <td>175.259995</td>\n",
       "      <td>92.079300</td>\n",
       "      <td>1.0</td>\n",
       "      <td>1.0</td>\n",
       "      <td>4.0</td>\n",
       "      <td>8.0</td>\n",
       "      <td>...</td>\n",
       "      <td>3.0</td>\n",
       "      <td>2.0</td>\n",
       "      <td>146.0</td>\n",
       "      <td>1.0</td>\n",
       "      <td>0.0</td>\n",
       "      <td>0.0</td>\n",
       "      <td>366.0</td>\n",
       "      <td>366.0</td>\n",
       "      <td>0.0</td>\n",
       "      <td>1.0</td>\n",
       "    </tr>\n",
       "    <tr>\n",
       "      <th>105072</th>\n",
       "      <td>2023.0</td>\n",
       "      <td>2.0</td>\n",
       "      <td>43.0</td>\n",
       "      <td>21.587620</td>\n",
       "      <td>182.880005</td>\n",
       "      <td>72.199997</td>\n",
       "      <td>1.0</td>\n",
       "      <td>1.0</td>\n",
       "      <td>3.0</td>\n",
       "      <td>15.0</td>\n",
       "      <td>...</td>\n",
       "      <td>24.0</td>\n",
       "      <td>1.0</td>\n",
       "      <td>148.0</td>\n",
       "      <td>0.0</td>\n",
       "      <td>0.0</td>\n",
       "      <td>0.0</td>\n",
       "      <td>370.0</td>\n",
       "      <td>370.0</td>\n",
       "      <td>0.0</td>\n",
       "      <td>3.0</td>\n",
       "    </tr>\n",
       "    <tr>\n",
       "      <th>105073</th>\n",
       "      <td>2023.0</td>\n",
       "      <td>2.0</td>\n",
       "      <td>58.0</td>\n",
       "      <td>19.834711</td>\n",
       "      <td>165.000000</td>\n",
       "      <td>54.000000</td>\n",
       "      <td>0.0</td>\n",
       "      <td>1.0</td>\n",
       "      <td>4.0</td>\n",
       "      <td>29.0</td>\n",
       "      <td>...</td>\n",
       "      <td>22.0</td>\n",
       "      <td>3.0</td>\n",
       "      <td>147.0</td>\n",
       "      <td>0.0</td>\n",
       "      <td>0.0</td>\n",
       "      <td>0.0</td>\n",
       "      <td>386.0</td>\n",
       "      <td>386.0</td>\n",
       "      <td>0.0</td>\n",
       "      <td>3.0</td>\n",
       "    </tr>\n",
       "    <tr>\n",
       "      <th>105074</th>\n",
       "      <td>2023.0</td>\n",
       "      <td>2.0</td>\n",
       "      <td>52.0</td>\n",
       "      <td>37.380169</td>\n",
       "      <td>167.600006</td>\n",
       "      <td>105.000000</td>\n",
       "      <td>1.0</td>\n",
       "      <td>3.0</td>\n",
       "      <td>4.0</td>\n",
       "      <td>38.0</td>\n",
       "      <td>...</td>\n",
       "      <td>15.0</td>\n",
       "      <td>1.0</td>\n",
       "      <td>130.0</td>\n",
       "      <td>1.0</td>\n",
       "      <td>0.0</td>\n",
       "      <td>0.0</td>\n",
       "      <td>396.0</td>\n",
       "      <td>396.0</td>\n",
       "      <td>0.0</td>\n",
       "      <td>4.0</td>\n",
       "    </tr>\n",
       "  </tbody>\n",
       "</table>\n",
       "<p>105075 rows × 40 columns</p>\n",
       "</div>"
      ],
      "text/plain": [
       "          year  recipient_status  recipient_age  recipient_bmi  \\\n",
       "0       2008.0               1.0           47.0      25.685751   \n",
       "1       2006.0               2.0           50.0      24.545639   \n",
       "2       2007.0               2.0           35.0      33.622337   \n",
       "3       2007.0               2.0           53.0      22.008026   \n",
       "4       2006.0               2.0           56.0      25.612984   \n",
       "...        ...               ...            ...            ...   \n",
       "105070  2023.0               2.0           53.0      29.502140   \n",
       "105071  2023.0               2.0           66.0      29.977568   \n",
       "105072  2023.0               2.0           43.0      21.587620   \n",
       "105073  2023.0               2.0           58.0      19.834711   \n",
       "105074  2023.0               2.0           52.0      37.380169   \n",
       "\n",
       "        recipient_height  recipient_weight  recipient_sex  recipient_race  \\\n",
       "0             170.179993         74.389099            1.0             1.0   \n",
       "1             162.559998         64.863701            1.0             4.0   \n",
       "2             190.500000        122.016296            1.0             1.0   \n",
       "3             175.259995         67.599998            1.0             3.0   \n",
       "4             173.000000         76.657097            1.0             1.0   \n",
       "...                  ...               ...            ...             ...   \n",
       "105070        162.600006         78.000000            0.0             1.0   \n",
       "105071        175.259995         92.079300            1.0             1.0   \n",
       "105072        182.880005         72.199997            1.0             1.0   \n",
       "105073        165.000000         54.000000            0.0             1.0   \n",
       "105074        167.600006        105.000000            1.0             3.0   \n",
       "\n",
       "        recipient_blood_type  MELD  ...  donor_bili  donor_creat  \\\n",
       "0                        1.0  15.0  ...        12.0          1.0   \n",
       "1                        4.0  21.0  ...         7.0          1.0   \n",
       "2                        1.0   8.0  ...        10.0          1.0   \n",
       "3                        1.0  25.0  ...        17.0          1.0   \n",
       "4                        4.0  31.0  ...        15.0          1.0   \n",
       "...                      ...   ...  ...         ...          ...   \n",
       "105070                   1.0  32.0  ...        21.0          4.0   \n",
       "105071                   4.0   8.0  ...         3.0          2.0   \n",
       "105072                   3.0  15.0  ...        24.0          1.0   \n",
       "105073                   4.0  29.0  ...        22.0          3.0   \n",
       "105074                   4.0  38.0  ...        15.0          1.0   \n",
       "\n",
       "        donor_sodium  donor_drugs  donor_alcohol  graft_1yr  recipient_days  \\\n",
       "0              146.0          1.0            0.0        1.0           212.0   \n",
       "1              147.0          0.0            0.0        0.0            26.0   \n",
       "2              140.0          0.0            0.0        0.0          4662.0   \n",
       "3              129.0          0.0            0.0        0.0          6051.0   \n",
       "4              160.0          1.0            1.0        0.0          4260.0   \n",
       "...              ...          ...            ...        ...             ...   \n",
       "105070         136.0          0.0            1.0        0.0           361.0   \n",
       "105071         146.0          1.0            0.0        0.0           366.0   \n",
       "105072         148.0          0.0            0.0        0.0           370.0   \n",
       "105073         147.0          0.0            0.0        0.0           386.0   \n",
       "105074         130.0          1.0            0.0        0.0           396.0   \n",
       "\n",
       "        graft_days  patient_1yr  recipient_region  \n",
       "0            212.0          1.0               8.0  \n",
       "1             26.0          0.0               5.0  \n",
       "2           4662.0          0.0               3.0  \n",
       "3           6051.0          0.0               4.0  \n",
       "4           4260.0          0.0               5.0  \n",
       "...            ...          ...               ...  \n",
       "105070       361.0          0.0              11.0  \n",
       "105071       366.0          0.0               1.0  \n",
       "105072       370.0          0.0               3.0  \n",
       "105073       386.0          0.0               3.0  \n",
       "105074       396.0          0.0               4.0  \n",
       "\n",
       "[105075 rows x 40 columns]"
      ]
     },
     "execution_count": 30,
     "metadata": {},
     "output_type": "execute_result"
    }
   ],
   "source": [
    "df_imputed"
   ]
  },
  {
   "cell_type": "code",
   "execution_count": 43,
   "metadata": {},
   "outputs": [],
   "source": [
    "exclude_cols = [\n",
    "    \"recipient_age\",\n",
    "    \"recipient_bmi\",\n",
    "    \"recipient_height\",\n",
    "    \"recipient_weight\",\n",
    "    \"donor_age\",\n",
    "    \"donor_bmi\",\n",
    "    \"donor_height\",\n",
    "    \"donor_weight\",\n",
    "]\n",
    "df_imputed.loc[:, df_imputed.columns.difference(exclude_cols)] = (\n",
    "    df_imputed.loc[:, df_imputed.columns.difference(exclude_cols)].round()\n",
    ")"
   ]
  },
  {
   "cell_type": "code",
   "execution_count": 47,
   "metadata": {},
   "outputs": [],
   "source": [
    "df_imputed = df_imputed.where(df_imputed >= 0, 0)"
   ]
  },
  {
   "cell_type": "code",
   "execution_count": 48,
   "metadata": {},
   "outputs": [],
   "source": [
    "df_imputed.to_pickle('data/usa_imp.p')\n",
    "df_imputed.to_excel('data/usa_imp.xlsx') #now this is the USA dataset that I use for fusion"
   ]
  },
  {
   "cell_type": "code",
   "execution_count": 49,
   "metadata": {},
   "outputs": [
    {
     "data": {
      "application/vnd.jupyter.widget-view+json": {
       "model_id": "feae1533b09b40f4ab6028d9995aa320",
       "version_major": 2,
       "version_minor": 0
      },
      "text/plain": [
       "Summarize dataset:   0%|          | 0/5 [00:00<?, ?it/s]"
      ]
     },
     "metadata": {},
     "output_type": "display_data"
    },
    {
     "name": "stderr",
     "output_type": "stream",
     "text": [
      "100%|██████████| 40/40 [00:00<00:00, 302.06it/s]\n"
     ]
    },
    {
     "data": {
      "application/vnd.jupyter.widget-view+json": {
       "model_id": "c88039d0bc8a43f5a66a923afc359b18",
       "version_major": 2,
       "version_minor": 0
      },
      "text/plain": [
       "Generate report structure:   0%|          | 0/1 [00:00<?, ?it/s]"
      ]
     },
     "metadata": {},
     "output_type": "display_data"
    },
    {
     "data": {
      "application/vnd.jupyter.widget-view+json": {
       "model_id": "52602fcc722847c797dcbd2a590f0333",
       "version_major": 2,
       "version_minor": 0
      },
      "text/plain": [
       "Render widgets:   0%|          | 0/1 [00:00<?, ?it/s]"
      ]
     },
     "metadata": {},
     "output_type": "display_data"
    },
    {
     "data": {
      "application/vnd.jupyter.widget-view+json": {
       "model_id": "c77a605ca0184af7855cdf4b3dd49ad2",
       "version_major": 2,
       "version_minor": 0
      },
      "text/plain": [
       "VBox(children=(Tab(children=(Tab(children=(GridBox(children=(VBox(children=(GridspecLayout(children=(HTML(valu…"
      ]
     },
     "metadata": {},
     "output_type": "display_data"
    },
    {
     "data": {
      "application/vnd.jupyter.widget-view+json": {
       "model_id": "674f6a493bd04d07849baed2eccd6e1f",
       "version_major": 2,
       "version_minor": 0
      },
      "text/plain": [
       "Render HTML:   0%|          | 0/1 [00:00<?, ?it/s]"
      ]
     },
     "metadata": {},
     "output_type": "display_data"
    },
    {
     "data": {
      "application/vnd.jupyter.widget-view+json": {
       "model_id": "ae8079cde2184845b87f81ab129d994d",
       "version_major": 2,
       "version_minor": 0
      },
      "text/plain": [
       "Export report to file:   0%|          | 0/1 [00:00<?, ?it/s]"
      ]
     },
     "metadata": {},
     "output_type": "display_data"
    }
   ],
   "source": [
    "from ydata_profiling import ProfileReport\n",
    "profile = ProfileReport(df_imputed, title=\"Data Overview After Imputation\", minimal=True)\n",
    "profile.to_widgets()\n",
    "profile.to_file(\"reports/usa_2.html\")"
   ]
  },
  {
   "cell_type": "code",
   "execution_count": null,
   "metadata": {},
   "outputs": [],
   "source": []
  }
 ],
 "metadata": {
  "kernelspec": {
   "display_name": "eddy",
   "language": "python",
   "name": "python3"
  },
  "language_info": {
   "codemirror_mode": {
    "name": "ipython",
    "version": 3
   },
   "file_extension": ".py",
   "mimetype": "text/x-python",
   "name": "python",
   "nbconvert_exporter": "python",
   "pygments_lexer": "ipython3",
   "version": "3.10.16"
  },
  "orig_nbformat": 4
 },
 "nbformat": 4,
 "nbformat_minor": 2
}
